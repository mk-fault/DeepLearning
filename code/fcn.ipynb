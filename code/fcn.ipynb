{
 "cells": [
  {
   "cell_type": "markdown",
   "id": "2ecc7696",
   "metadata": {
    "origin_pos": 0
   },
   "source": [
    "# 全卷积网络\n",
    ":label:`sec_fcn`\n",
    "\n",
    "如 :numref:`sec_semantic_segmentation`中所介绍的那样，语义分割是对图像中的每个像素分类。\n",
    "*全卷积网络*（fully convolutional network，FCN）采用卷积神经网络实现了从图像像素到像素类别的变换 :cite:`Long.Shelhamer.Darrell.2015`。\n",
    "与我们之前在图像分类或目标检测部分介绍的卷积神经网络不同，全卷积网络将中间层特征图的高和宽变换回输入图像的尺寸：这是通过在 :numref:`sec_transposed_conv`中引入的*转置卷积*（transposed convolution）实现的。\n",
    "因此，输出的类别预测与输入图像在像素级别上具有一一对应关系：通道维的输出即该位置对应像素的类别预测。\n"
   ]
  },
  {
   "cell_type": "code",
   "execution_count": 1,
   "id": "32be94c9",
   "metadata": {
    "execution": {
     "iopub.execute_input": "2022-07-31T02:40:50.385687Z",
     "iopub.status.busy": "2022-07-31T02:40:50.385130Z",
     "iopub.status.idle": "2022-07-31T02:40:52.389418Z",
     "shell.execute_reply": "2022-07-31T02:40:52.388718Z"
    },
    "origin_pos": 2,
    "tab": [
     "pytorch"
    ]
   },
   "outputs": [],
   "source": [
    "%matplotlib inline\n",
    "import torch\n",
    "import torchvision\n",
    "from torch import nn\n",
    "from torch.nn import functional as F\n",
    "from d2l import torch as d2l"
   ]
  },
  {
   "cell_type": "markdown",
   "id": "7732477c",
   "metadata": {
    "origin_pos": 3
   },
   "source": [
    "## 构造模型\n",
    "\n",
    "下面我们了解一下全卷积网络模型最基本的设计。\n",
    "如 :numref:`fig_fcn`所示，全卷积网络先使用卷积神经网络抽取图像特征，然后通过$1\\times 1$卷积层将通道数变换为类别个数，最后在 :numref:`sec_transposed_conv`中通过转置卷积层将特征图的高和宽变换为输入图像的尺寸。\n",
    "因此，模型输出与输入图像的高和宽相同，且最终输出通道包含了该空间位置像素的类别预测。\n",
    "\n",
    "![全卷积网络](../img/fcn.svg)\n",
    ":label:`fig_fcn`\n",
    "\n",
    "下面，我们[**使用在ImageNet数据集上预训练的ResNet-18模型来提取图像特征**]，并将该网络记为`pretrained_net`。\n",
    "ResNet-18模型的最后几层包括全局平均汇聚层和全连接层，然而全卷积网络中不需要它们。\n"
   ]
  },
  {
   "cell_type": "code",
   "execution_count": 2,
   "id": "c7b48613",
   "metadata": {
    "execution": {
     "iopub.execute_input": "2022-07-31T02:40:52.393057Z",
     "iopub.status.busy": "2022-07-31T02:40:52.392672Z",
     "iopub.status.idle": "2022-07-31T02:40:52.657130Z",
     "shell.execute_reply": "2022-07-31T02:40:52.656503Z"
    },
    "origin_pos": 5,
    "tab": [
     "pytorch"
    ]
   },
   "outputs": [
    {
     "name": "stderr",
     "output_type": "stream",
     "text": [
      "/home/c206/.local/lib/python3.8/site-packages/torchvision/models/_utils.py:208: UserWarning: The parameter 'pretrained' is deprecated since 0.13 and may be removed in the future, please use 'weights' instead.\n",
      "  warnings.warn(\n",
      "/home/c206/.local/lib/python3.8/site-packages/torchvision/models/_utils.py:223: UserWarning: Arguments other than a weight enum or `None` for 'weights' are deprecated since 0.13 and may be removed in the future. The current behavior is equivalent to passing `weights=ResNet18_Weights.IMAGENET1K_V1`. You can also use `weights=ResNet18_Weights.DEFAULT` to get the most up-to-date weights.\n",
      "  warnings.warn(msg)\n"
     ]
    },
    {
     "data": {
      "text/plain": "[Sequential(\n   (0): BasicBlock(\n     (conv1): Conv2d(256, 512, kernel_size=(3, 3), stride=(2, 2), padding=(1, 1), bias=False)\n     (bn1): BatchNorm2d(512, eps=1e-05, momentum=0.1, affine=True, track_running_stats=True)\n     (relu): ReLU(inplace=True)\n     (conv2): Conv2d(512, 512, kernel_size=(3, 3), stride=(1, 1), padding=(1, 1), bias=False)\n     (bn2): BatchNorm2d(512, eps=1e-05, momentum=0.1, affine=True, track_running_stats=True)\n     (downsample): Sequential(\n       (0): Conv2d(256, 512, kernel_size=(1, 1), stride=(2, 2), bias=False)\n       (1): BatchNorm2d(512, eps=1e-05, momentum=0.1, affine=True, track_running_stats=True)\n     )\n   )\n   (1): BasicBlock(\n     (conv1): Conv2d(512, 512, kernel_size=(3, 3), stride=(1, 1), padding=(1, 1), bias=False)\n     (bn1): BatchNorm2d(512, eps=1e-05, momentum=0.1, affine=True, track_running_stats=True)\n     (relu): ReLU(inplace=True)\n     (conv2): Conv2d(512, 512, kernel_size=(3, 3), stride=(1, 1), padding=(1, 1), bias=False)\n     (bn2): BatchNorm2d(512, eps=1e-05, momentum=0.1, affine=True, track_running_stats=True)\n   )\n ),\n AdaptiveAvgPool2d(output_size=(1, 1)),\n Linear(in_features=512, out_features=1000, bias=True)]"
     },
     "execution_count": 2,
     "metadata": {},
     "output_type": "execute_result"
    }
   ],
   "source": [
    "pretrained_net = torchvision.models.resnet18(pretrained=True)\n",
    "list(pretrained_net.children())[-3:]"
   ]
  },
  {
   "cell_type": "markdown",
   "id": "1391ab2b",
   "metadata": {
    "origin_pos": 6
   },
   "source": [
    "接下来，我们[**创建一个全卷积网络`net`**]。\n",
    "它复制了ResNet-18中大部分的预训练层，除了最后的全局平均汇聚层和最接近输出的全连接层。\n"
   ]
  },
  {
   "cell_type": "code",
   "execution_count": 3,
   "id": "94cfd7ec",
   "metadata": {
    "execution": {
     "iopub.execute_input": "2022-07-31T02:40:52.660581Z",
     "iopub.status.busy": "2022-07-31T02:40:52.660210Z",
     "iopub.status.idle": "2022-07-31T02:40:52.663940Z",
     "shell.execute_reply": "2022-07-31T02:40:52.663306Z"
    },
    "origin_pos": 8,
    "tab": [
     "pytorch"
    ]
   },
   "outputs": [],
   "source": [
    "net = nn.Sequential(*list(pretrained_net.children())[:-2])"
   ]
  },
  {
   "cell_type": "markdown",
   "id": "ee8db984",
   "metadata": {
    "origin_pos": 9
   },
   "source": [
    "给定高度为320和宽度为480的输入，`net`的前向传播将输入的高和宽减小至原来的$1/32$，即10和15。\n"
   ]
  },
  {
   "cell_type": "code",
   "execution_count": 4,
   "id": "9ea370d8",
   "metadata": {
    "execution": {
     "iopub.execute_input": "2022-07-31T02:40:52.666719Z",
     "iopub.status.busy": "2022-07-31T02:40:52.666386Z",
     "iopub.status.idle": "2022-07-31T02:40:52.724153Z",
     "shell.execute_reply": "2022-07-31T02:40:52.723528Z"
    },
    "origin_pos": 11,
    "tab": [
     "pytorch"
    ]
   },
   "outputs": [
    {
     "data": {
      "text/plain": "torch.Size([1, 512, 10, 15])"
     },
     "execution_count": 4,
     "metadata": {},
     "output_type": "execute_result"
    }
   ],
   "source": [
    "X = torch.rand(size=(1, 3, 320, 480))\n",
    "net(X).shape"
   ]
  },
  {
   "cell_type": "markdown",
   "id": "b75e8189",
   "metadata": {
    "origin_pos": 12
   },
   "source": [
    "接下来，我们[**使用$1\\times1$卷积层将输出通道数转换为Pascal VOC2012数据集的类数（21类）。**]\n",
    "最后，我们需要(**将特征图的高度和宽度增加32倍**)，从而将其变回输入图像的高和宽。\n",
    "回想一下 :numref:`sec_padding`中卷积层输出形状的计算方法：\n",
    "由于$(320-64+16\\times2+32)/32=10$且$(480-64+16\\times2+32)/32=15$，我们构造一个步幅为$32$的转置卷积层，并将卷积核的高和宽设为$64$，填充为$16$。\n",
    "我们可以看到如果步幅为$s$，填充为$s/2$（假设$s/2$是整数）且卷积核的高和宽为$2s$，转置卷积核会将输入的高和宽分别放大$s$倍。\n"
   ]
  },
  {
   "cell_type": "code",
   "execution_count": 5,
   "id": "295abd86",
   "metadata": {
    "execution": {
     "iopub.execute_input": "2022-07-31T02:40:52.727066Z",
     "iopub.status.busy": "2022-07-31T02:40:52.726861Z",
     "iopub.status.idle": "2022-07-31T02:40:52.744316Z",
     "shell.execute_reply": "2022-07-31T02:40:52.743683Z"
    },
    "origin_pos": 14,
    "tab": [
     "pytorch"
    ]
   },
   "outputs": [],
   "source": [
    "num_classes = 21\n",
    "net.add_module('final_conv', nn.Conv2d(512, num_classes, kernel_size=1))\n",
    "net.add_module('transpose_conv', nn.ConvTranspose2d(num_classes, num_classes,\n",
    "                                    kernel_size=64, padding=16, stride=32))"
   ]
  },
  {
   "cell_type": "markdown",
   "id": "dffde6b0",
   "metadata": {
    "origin_pos": 15
   },
   "source": [
    "## [**初始化转置卷积层**]\n",
    "\n",
    "在图像处理中，我们有时需要将图像放大，即*上采样*（upsampling）。\n",
    "*双线性插值*（bilinear interpolation）\n",
    "是常用的上采样方法之一，它也经常用于初始化转置卷积层。\n",
    "\n",
    "为了解释双线性插值，假设给定输入图像，我们想要计算上采样输出图像上的每个像素。\n",
    "首先，将输出图像的坐标$(x,y)$映射到输入图像的坐标$(x',y')$上。\n",
    "例如，根据输入与输出的尺寸之比来映射。\n",
    "请注意，映射后的$x′$和$y′$是实数。\n",
    "然后，在输入图像上找到离坐标$(x',y')$最近的4个像素。\n",
    "最后，输出图像在坐标$(x,y)$上的像素依据输入图像上这4个像素及其与$(x',y')$的相对距离来计算。\n",
    "\n",
    "双线性插值的上采样可以通过转置卷积层实现，内核由以下`bilinear_kernel`函数构造。\n",
    "限于篇幅，我们只给出`bilinear_kernel`函数的实现，不讨论算法的原理。\n"
   ]
  },
  {
   "cell_type": "code",
   "execution_count": 6,
   "id": "34a9aa1c",
   "metadata": {
    "execution": {
     "iopub.execute_input": "2022-07-31T02:40:52.747315Z",
     "iopub.status.busy": "2022-07-31T02:40:52.746833Z",
     "iopub.status.idle": "2022-07-31T02:40:52.752274Z",
     "shell.execute_reply": "2022-07-31T02:40:52.751688Z"
    },
    "origin_pos": 17,
    "tab": [
     "pytorch"
    ]
   },
   "outputs": [],
   "source": [
    "def bilinear_kernel(in_channels, out_channels, kernel_size):\n",
    "    factor = (kernel_size + 1) // 2\n",
    "    if kernel_size % 2 == 1:\n",
    "        center = factor - 1\n",
    "    else:\n",
    "        center = factor - 0.5\n",
    "    og = (torch.arange(kernel_size).reshape(-1, 1),\n",
    "          torch.arange(kernel_size).reshape(1, -1))\n",
    "    filt = (1 - torch.abs(og[0] - center) / factor) * \\\n",
    "           (1 - torch.abs(og[1] - center) / factor)\n",
    "    weight = torch.zeros((in_channels, out_channels,\n",
    "                          kernel_size, kernel_size))\n",
    "    weight[range(in_channels), range(out_channels), :, :] = filt\n",
    "    return weight"
   ]
  },
  {
   "cell_type": "markdown",
   "id": "531b165d",
   "metadata": {
    "origin_pos": 18
   },
   "source": [
    "让我们用[**双线性插值的上采样实验**]它由转置卷积层实现。\n",
    "我们构造一个将输入的高和宽放大2倍的转置卷积层，并将其卷积核用`bilinear_kernel`函数初始化。\n"
   ]
  },
  {
   "cell_type": "code",
   "execution_count": 7,
   "id": "71544d90",
   "metadata": {
    "execution": {
     "iopub.execute_input": "2022-07-31T02:40:52.754944Z",
     "iopub.status.busy": "2022-07-31T02:40:52.754744Z",
     "iopub.status.idle": "2022-07-31T02:40:52.759729Z",
     "shell.execute_reply": "2022-07-31T02:40:52.759096Z"
    },
    "origin_pos": 20,
    "tab": [
     "pytorch"
    ]
   },
   "outputs": [],
   "source": [
    "conv_trans = nn.ConvTranspose2d(3, 3, kernel_size=4, padding=1, stride=2,\n",
    "                                bias=False)\n",
    "conv_trans.weight.data.copy_(bilinear_kernel(3, 3, 4));"
   ]
  },
  {
   "cell_type": "markdown",
   "id": "d9524c78",
   "metadata": {
    "origin_pos": 21
   },
   "source": [
    "读取图像`X`，将上采样的结果记作`Y`。为了打印图像，我们需要调整通道维的位置。\n"
   ]
  },
  {
   "cell_type": "code",
   "execution_count": 16,
   "id": "5a1f03f5",
   "metadata": {
    "execution": {
     "iopub.execute_input": "2022-07-31T02:40:52.762497Z",
     "iopub.status.busy": "2022-07-31T02:40:52.762296Z",
     "iopub.status.idle": "2022-07-31T02:40:52.813731Z",
     "shell.execute_reply": "2022-07-31T02:40:52.813054Z"
    },
    "origin_pos": 23,
    "tab": [
     "pytorch"
    ]
   },
   "outputs": [
    {
     "ename": "FileNotFoundError",
     "evalue": "[Errno 2] No such file or directory: '../img/catdog.jpg'",
     "output_type": "error",
     "traceback": [
      "\u001B[0;31m---------------------------------------------------------------------------\u001B[0m",
      "\u001B[0;31mFileNotFoundError\u001B[0m                         Traceback (most recent call last)",
      "Input \u001B[0;32mIn [16]\u001B[0m, in \u001B[0;36m<cell line: 1>\u001B[0;34m()\u001B[0m\n\u001B[0;32m----> 1\u001B[0m img \u001B[38;5;241m=\u001B[39m torchvision\u001B[38;5;241m.\u001B[39mtransforms\u001B[38;5;241m.\u001B[39mToTensor()(\u001B[43md2l\u001B[49m\u001B[38;5;241;43m.\u001B[39;49m\u001B[43mImage\u001B[49m\u001B[38;5;241;43m.\u001B[39;49m\u001B[43mopen\u001B[49m\u001B[43m(\u001B[49m\u001B[38;5;124;43m'\u001B[39;49m\u001B[38;5;124;43m../img/catdog.jpg\u001B[39;49m\u001B[38;5;124;43m'\u001B[39;49m\u001B[43m)\u001B[49m)\n\u001B[1;32m      2\u001B[0m X \u001B[38;5;241m=\u001B[39m img\u001B[38;5;241m.\u001B[39munsqueeze(\u001B[38;5;241m0\u001B[39m)\n\u001B[1;32m      3\u001B[0m Y \u001B[38;5;241m=\u001B[39m conv_trans(X)\n",
      "File \u001B[0;32m~/.local/lib/python3.8/site-packages/PIL/Image.py:3092\u001B[0m, in \u001B[0;36mopen\u001B[0;34m(fp, mode, formats)\u001B[0m\n\u001B[1;32m   3089\u001B[0m     filename \u001B[38;5;241m=\u001B[39m fp\n\u001B[1;32m   3091\u001B[0m \u001B[38;5;28;01mif\u001B[39;00m filename:\n\u001B[0;32m-> 3092\u001B[0m     fp \u001B[38;5;241m=\u001B[39m \u001B[43mbuiltins\u001B[49m\u001B[38;5;241;43m.\u001B[39;49m\u001B[43mopen\u001B[49m\u001B[43m(\u001B[49m\u001B[43mfilename\u001B[49m\u001B[43m,\u001B[49m\u001B[43m \u001B[49m\u001B[38;5;124;43m\"\u001B[39;49m\u001B[38;5;124;43mrb\u001B[39;49m\u001B[38;5;124;43m\"\u001B[39;49m\u001B[43m)\u001B[49m\n\u001B[1;32m   3093\u001B[0m     exclusive_fp \u001B[38;5;241m=\u001B[39m \u001B[38;5;28;01mTrue\u001B[39;00m\n\u001B[1;32m   3095\u001B[0m \u001B[38;5;28;01mtry\u001B[39;00m:\n",
      "\u001B[0;31mFileNotFoundError\u001B[0m: [Errno 2] No such file or directory: '../img/catdog.jpg'"
     ]
    }
   ],
   "source": [
    "img = torchvision.transforms.ToTensor()(d2l.Image.open('../img/catdog.jpg'))\n",
    "X = img.unsqueeze(0)\n",
    "Y = conv_trans(X)\n",
    "out_img = Y[0].permute(1, 2, 0).detach()"
   ]
  },
  {
   "cell_type": "markdown",
   "id": "aac56991",
   "metadata": {
    "origin_pos": 24
   },
   "source": [
    "可以看到，转置卷积层将图像的高和宽分别放大了2倍。\n",
    "除了坐标刻度不同，双线性插值放大的图像和在 :numref:`sec_bbox`中打印出的原图看上去没什么两样。\n"
   ]
  },
  {
   "cell_type": "code",
   "execution_count": null,
   "id": "1f09aaf8",
   "metadata": {
    "execution": {
     "iopub.execute_input": "2022-07-31T02:40:52.817318Z",
     "iopub.status.busy": "2022-07-31T02:40:52.816836Z",
     "iopub.status.idle": "2022-07-31T02:40:53.455170Z",
     "shell.execute_reply": "2022-07-31T02:40:53.454486Z"
    },
    "origin_pos": 26,
    "tab": [
     "pytorch"
    ]
   },
   "outputs": [],
   "source": [
    "d2l.set_figsize()\n",
    "print('input image shape:', img.permute(1, 2, 0).shape)\n",
    "d2l.plt.imshow(img.permute(1, 2, 0));\n",
    "print('output image shape:', out_img.shape)\n",
    "d2l.plt.imshow(out_img);"
   ]
  },
  {
   "cell_type": "markdown",
   "id": "82cfcc8f",
   "metadata": {
    "origin_pos": 27
   },
   "source": [
    "在全卷积网络中，我们[**用双线性插值的上采样初始化转置卷积层。对于$1\\times 1$卷积层，我们使用Xavier初始化参数。**]\n"
   ]
  },
  {
   "cell_type": "code",
   "execution_count": 13,
   "id": "8f9df14f",
   "metadata": {
    "execution": {
     "iopub.execute_input": "2022-07-31T02:40:53.458585Z",
     "iopub.status.busy": "2022-07-31T02:40:53.458096Z",
     "iopub.status.idle": "2022-07-31T02:40:53.463374Z",
     "shell.execute_reply": "2022-07-31T02:40:53.462626Z"
    },
    "origin_pos": 29,
    "tab": [
     "pytorch"
    ]
   },
   "outputs": [],
   "source": [
    "W = bilinear_kernel(num_classes, num_classes, 64)\n",
    "net.transpose_conv.weight.data.copy_(W);"
   ]
  },
  {
   "cell_type": "markdown",
   "id": "cc3dee3e",
   "metadata": {
    "origin_pos": 30
   },
   "source": [
    "## [**读取数据集**]\n",
    "\n",
    "我们用 :numref:`sec_semantic_segmentation`中介绍的语义分割读取数据集。\n",
    "指定随机裁剪的输出图像的形状为$320\\times 480$：高和宽都可以被$32$整除。\n"
   ]
  },
  {
   "cell_type": "code",
   "execution_count": 14,
   "id": "0db6b535",
   "metadata": {
    "execution": {
     "iopub.execute_input": "2022-07-31T02:40:53.466144Z",
     "iopub.status.busy": "2022-07-31T02:40:53.465939Z",
     "iopub.status.idle": "2022-07-31T02:41:20.833526Z",
     "shell.execute_reply": "2022-07-31T02:41:20.832847Z"
    },
    "origin_pos": 31,
    "tab": [
     "pytorch"
    ]
   },
   "outputs": [
    {
     "ename": "PermissionError",
     "evalue": "[Errno 13] Permission denied: '../data'",
     "output_type": "error",
     "traceback": [
      "\u001B[0;31m---------------------------------------------------------------------------\u001B[0m",
      "\u001B[0;31mPermissionError\u001B[0m                           Traceback (most recent call last)",
      "Input \u001B[0;32mIn [14]\u001B[0m, in \u001B[0;36m<cell line: 2>\u001B[0;34m()\u001B[0m\n\u001B[1;32m      1\u001B[0m batch_size, crop_size \u001B[38;5;241m=\u001B[39m \u001B[38;5;241m32\u001B[39m, (\u001B[38;5;241m320\u001B[39m, \u001B[38;5;241m480\u001B[39m)\n\u001B[0;32m----> 2\u001B[0m train_iter, test_iter \u001B[38;5;241m=\u001B[39m \u001B[43md2l\u001B[49m\u001B[38;5;241;43m.\u001B[39;49m\u001B[43mload_data_voc\u001B[49m\u001B[43m(\u001B[49m\u001B[43mbatch_size\u001B[49m\u001B[43m,\u001B[49m\u001B[43m \u001B[49m\u001B[43mcrop_size\u001B[49m\u001B[43m)\u001B[49m\n",
      "File \u001B[0;32m~/.local/lib/python3.8/site-packages/d2l/torch.py:1986\u001B[0m, in \u001B[0;36mload_data_voc\u001B[0;34m(batch_size, crop_size)\u001B[0m\n\u001B[1;32m   1982\u001B[0m \u001B[38;5;28;01mdef\u001B[39;00m \u001B[38;5;21mload_data_voc\u001B[39m(batch_size, crop_size):\n\u001B[1;32m   1983\u001B[0m     \u001B[38;5;124;03m\"\"\"Load the VOC semantic segmentation dataset.\u001B[39;00m\n\u001B[1;32m   1984\u001B[0m \n\u001B[1;32m   1985\u001B[0m \u001B[38;5;124;03m    Defined in :numref:`sec_semantic_segmentation`\"\"\"\u001B[39;00m\n\u001B[0;32m-> 1986\u001B[0m     voc_dir \u001B[38;5;241m=\u001B[39m \u001B[43md2l\u001B[49m\u001B[38;5;241;43m.\u001B[39;49m\u001B[43mdownload_extract\u001B[49m\u001B[43m(\u001B[49m\u001B[38;5;124;43m'\u001B[39;49m\u001B[38;5;124;43mvoc2012\u001B[39;49m\u001B[38;5;124;43m'\u001B[39;49m\u001B[43m,\u001B[49m\u001B[43m \u001B[49m\u001B[43mos\u001B[49m\u001B[38;5;241;43m.\u001B[39;49m\u001B[43mpath\u001B[49m\u001B[38;5;241;43m.\u001B[39;49m\u001B[43mjoin\u001B[49m\u001B[43m(\u001B[49m\n\u001B[1;32m   1987\u001B[0m \u001B[43m        \u001B[49m\u001B[38;5;124;43m'\u001B[39;49m\u001B[38;5;124;43mVOCdevkit\u001B[39;49m\u001B[38;5;124;43m'\u001B[39;49m\u001B[43m,\u001B[49m\u001B[43m \u001B[49m\u001B[38;5;124;43m'\u001B[39;49m\u001B[38;5;124;43mVOC2012\u001B[39;49m\u001B[38;5;124;43m'\u001B[39;49m\u001B[43m)\u001B[49m\u001B[43m)\u001B[49m\n\u001B[1;32m   1988\u001B[0m     num_workers \u001B[38;5;241m=\u001B[39m d2l\u001B[38;5;241m.\u001B[39mget_dataloader_workers()\n\u001B[1;32m   1989\u001B[0m     train_iter \u001B[38;5;241m=\u001B[39m torch\u001B[38;5;241m.\u001B[39mutils\u001B[38;5;241m.\u001B[39mdata\u001B[38;5;241m.\u001B[39mDataLoader(\n\u001B[1;32m   1990\u001B[0m         VOCSegDataset(\u001B[38;5;28;01mTrue\u001B[39;00m, crop_size, voc_dir), batch_size,\n\u001B[1;32m   1991\u001B[0m         shuffle\u001B[38;5;241m=\u001B[39m\u001B[38;5;28;01mTrue\u001B[39;00m, drop_last\u001B[38;5;241m=\u001B[39m\u001B[38;5;28;01mTrue\u001B[39;00m, num_workers\u001B[38;5;241m=\u001B[39mnum_workers)\n",
      "File \u001B[0;32m~/.local/lib/python3.8/site-packages/d2l/torch.py:399\u001B[0m, in \u001B[0;36mdownload_extract\u001B[0;34m(name, folder)\u001B[0m\n\u001B[1;32m    395\u001B[0m \u001B[38;5;28;01mdef\u001B[39;00m \u001B[38;5;21mdownload_extract\u001B[39m(name, folder\u001B[38;5;241m=\u001B[39m\u001B[38;5;28;01mNone\u001B[39;00m):\n\u001B[1;32m    396\u001B[0m     \u001B[38;5;124;03m\"\"\"Download and extract a zip/tar file.\u001B[39;00m\n\u001B[1;32m    397\u001B[0m \n\u001B[1;32m    398\u001B[0m \u001B[38;5;124;03m    Defined in :numref:`sec_kaggle_house`\"\"\"\u001B[39;00m\n\u001B[0;32m--> 399\u001B[0m     fname \u001B[38;5;241m=\u001B[39m \u001B[43mdownload\u001B[49m\u001B[43m(\u001B[49m\u001B[43mname\u001B[49m\u001B[43m)\u001B[49m\n\u001B[1;32m    400\u001B[0m     base_dir \u001B[38;5;241m=\u001B[39m os\u001B[38;5;241m.\u001B[39mpath\u001B[38;5;241m.\u001B[39mdirname(fname)\n\u001B[1;32m    401\u001B[0m     data_dir, ext \u001B[38;5;241m=\u001B[39m os\u001B[38;5;241m.\u001B[39mpath\u001B[38;5;241m.\u001B[39msplitext(fname)\n",
      "File \u001B[0;32m~/.local/lib/python3.8/site-packages/d2l/torch.py:377\u001B[0m, in \u001B[0;36mdownload\u001B[0;34m(name, cache_dir)\u001B[0m\n\u001B[1;32m    375\u001B[0m \u001B[38;5;28;01massert\u001B[39;00m name \u001B[38;5;129;01min\u001B[39;00m DATA_HUB, \u001B[38;5;124mf\u001B[39m\u001B[38;5;124m\"\u001B[39m\u001B[38;5;132;01m{\u001B[39;00mname\u001B[38;5;132;01m}\u001B[39;00m\u001B[38;5;124m does not exist in \u001B[39m\u001B[38;5;132;01m{\u001B[39;00mDATA_HUB\u001B[38;5;132;01m}\u001B[39;00m\u001B[38;5;124m.\u001B[39m\u001B[38;5;124m\"\u001B[39m\n\u001B[1;32m    376\u001B[0m url, sha1_hash \u001B[38;5;241m=\u001B[39m DATA_HUB[name]\n\u001B[0;32m--> 377\u001B[0m \u001B[43mos\u001B[49m\u001B[38;5;241;43m.\u001B[39;49m\u001B[43mmakedirs\u001B[49m\u001B[43m(\u001B[49m\u001B[43mcache_dir\u001B[49m\u001B[43m,\u001B[49m\u001B[43m \u001B[49m\u001B[43mexist_ok\u001B[49m\u001B[38;5;241;43m=\u001B[39;49m\u001B[38;5;28;43;01mTrue\u001B[39;49;00m\u001B[43m)\u001B[49m\n\u001B[1;32m    378\u001B[0m fname \u001B[38;5;241m=\u001B[39m os\u001B[38;5;241m.\u001B[39mpath\u001B[38;5;241m.\u001B[39mjoin(cache_dir, url\u001B[38;5;241m.\u001B[39msplit(\u001B[38;5;124m'\u001B[39m\u001B[38;5;124m/\u001B[39m\u001B[38;5;124m'\u001B[39m)[\u001B[38;5;241m-\u001B[39m\u001B[38;5;241m1\u001B[39m])\n\u001B[1;32m    379\u001B[0m \u001B[38;5;28;01mif\u001B[39;00m os\u001B[38;5;241m.\u001B[39mpath\u001B[38;5;241m.\u001B[39mexists(fname):\n",
      "File \u001B[0;32m~/anaconda3/lib/python3.8/os.py:223\u001B[0m, in \u001B[0;36mmakedirs\u001B[0;34m(name, mode, exist_ok)\u001B[0m\n\u001B[1;32m    221\u001B[0m         \u001B[38;5;28;01mreturn\u001B[39;00m\n\u001B[1;32m    222\u001B[0m \u001B[38;5;28;01mtry\u001B[39;00m:\n\u001B[0;32m--> 223\u001B[0m     \u001B[43mmkdir\u001B[49m\u001B[43m(\u001B[49m\u001B[43mname\u001B[49m\u001B[43m,\u001B[49m\u001B[43m \u001B[49m\u001B[43mmode\u001B[49m\u001B[43m)\u001B[49m\n\u001B[1;32m    224\u001B[0m \u001B[38;5;28;01mexcept\u001B[39;00m \u001B[38;5;167;01mOSError\u001B[39;00m:\n\u001B[1;32m    225\u001B[0m     \u001B[38;5;66;03m# Cannot rely on checking for EEXIST, since the operating system\u001B[39;00m\n\u001B[1;32m    226\u001B[0m     \u001B[38;5;66;03m# could give priority to other errors like EACCES or EROFS\u001B[39;00m\n\u001B[1;32m    227\u001B[0m     \u001B[38;5;28;01mif\u001B[39;00m \u001B[38;5;129;01mnot\u001B[39;00m exist_ok \u001B[38;5;129;01mor\u001B[39;00m \u001B[38;5;129;01mnot\u001B[39;00m path\u001B[38;5;241m.\u001B[39misdir(name):\n",
      "\u001B[0;31mPermissionError\u001B[0m: [Errno 13] Permission denied: '../data'"
     ]
    }
   ],
   "source": [
    "batch_size, crop_size = 32, (320, 480)\n",
    "train_iter, test_iter = d2l.load_data_voc(batch_size, crop_size)"
   ]
  },
  {
   "cell_type": "markdown",
   "id": "4c4bce8e",
   "metadata": {
    "origin_pos": 32
   },
   "source": [
    "## [**训练**]\n",
    "\n",
    "现在我们可以训练全卷积网络了。\n",
    "这里的损失函数和准确率计算与图像分类中的并没有本质上的不同，因为我们使用转置卷积层的通道来预测像素的类别，所以需要在损失计算中指定通道维。\n",
    "此外，模型基于每个像素的预测类别是否正确来计算准确率。\n"
   ]
  },
  {
   "cell_type": "code",
   "execution_count": null,
   "id": "de352a82",
   "metadata": {
    "execution": {
     "iopub.execute_input": "2022-07-31T02:41:20.836707Z",
     "iopub.status.busy": "2022-07-31T02:41:20.836213Z",
     "iopub.status.idle": "2022-07-31T02:42:16.480736Z",
     "shell.execute_reply": "2022-07-31T02:42:16.479919Z"
    },
    "origin_pos": 34,
    "tab": [
     "pytorch"
    ]
   },
   "outputs": [],
   "source": [
    "def loss(inputs, targets):\n",
    "    return F.cross_entropy(inputs, targets, reduction='none').mean(1).mean(1)\n",
    "\n",
    "num_epochs, lr, wd, devices = 5, 0.001, 1e-3, d2l.try_all_gpus()\n",
    "trainer = torch.optim.SGD(net.parameters(), lr=lr, weight_decay=wd)\n",
    "d2l.train_ch13(net, train_iter, test_iter, loss, trainer, num_epochs, devices)"
   ]
  },
  {
   "cell_type": "markdown",
   "id": "cfcd4820",
   "metadata": {
    "origin_pos": 35
   },
   "source": [
    "## [**预测**]\n",
    "\n",
    "在预测时，我们需要将输入图像在各个通道做标准化，并转成卷积神经网络所需要的四维输入格式。\n"
   ]
  },
  {
   "cell_type": "code",
   "execution_count": null,
   "id": "38bf55be",
   "metadata": {
    "execution": {
     "iopub.execute_input": "2022-07-31T02:42:16.485071Z",
     "iopub.status.busy": "2022-07-31T02:42:16.484516Z",
     "iopub.status.idle": "2022-07-31T02:42:16.489144Z",
     "shell.execute_reply": "2022-07-31T02:42:16.488503Z"
    },
    "origin_pos": 37,
    "tab": [
     "pytorch"
    ]
   },
   "outputs": [],
   "source": [
    "def predict(img):\n",
    "    X = test_iter.dataset.normalize_image(img).unsqueeze(0)\n",
    "    pred = net(X.to(devices[0])).argmax(dim=1)\n",
    "    return pred.reshape(pred.shape[1], pred.shape[2])"
   ]
  },
  {
   "cell_type": "markdown",
   "id": "54ff805a",
   "metadata": {
    "origin_pos": 38
   },
   "source": [
    "为了[**可视化预测的类别**]给每个像素，我们将预测类别映射回它们在数据集中的标注颜色。\n"
   ]
  },
  {
   "cell_type": "code",
   "execution_count": null,
   "id": "9339c7a7",
   "metadata": {
    "execution": {
     "iopub.execute_input": "2022-07-31T02:42:16.492111Z",
     "iopub.status.busy": "2022-07-31T02:42:16.491650Z",
     "iopub.status.idle": "2022-07-31T02:42:16.495403Z",
     "shell.execute_reply": "2022-07-31T02:42:16.494745Z"
    },
    "origin_pos": 40,
    "tab": [
     "pytorch"
    ]
   },
   "outputs": [],
   "source": [
    "def label2image(pred):\n",
    "    colormap = torch.tensor(d2l.VOC_COLORMAP, device=devices[0])\n",
    "    X = pred.long()\n",
    "    return colormap[X, :]"
   ]
  },
  {
   "cell_type": "markdown",
   "id": "62db26c6",
   "metadata": {
    "origin_pos": 41
   },
   "source": [
    "测试数据集中的图像大小和形状各异。\n",
    "由于模型使用了步幅为32的转置卷积层，因此当输入图像的高或宽无法被32整除时，转置卷积层输出的高或宽会与输入图像的尺寸有偏差。\n",
    "为了解决这个问题，我们可以在图像中截取多块高和宽为32的整数倍的矩形区域，并分别对这些区域中的像素做前向传播。\n",
    "请注意，这些区域的并集需要完整覆盖输入图像。\n",
    "当一个像素被多个区域所覆盖时，它在不同区域前向传播中转置卷积层输出的平均值可以作为`softmax`运算的输入，从而预测类别。\n",
    "\n",
    "为简单起见，我们只读取几张较大的测试图像，并从图像的左上角开始截取形状为$320\\times480$的区域用于预测。\n",
    "对于这些测试图像，我们逐一打印它们截取的区域，再打印预测结果，最后打印标注的类别。\n"
   ]
  },
  {
   "cell_type": "code",
   "execution_count": null,
   "id": "ad5db6a2",
   "metadata": {
    "execution": {
     "iopub.execute_input": "2022-07-31T02:42:16.498419Z",
     "iopub.status.busy": "2022-07-31T02:42:16.497873Z",
     "iopub.status.idle": "2022-07-31T02:42:38.009447Z",
     "shell.execute_reply": "2022-07-31T02:42:38.008699Z"
    },
    "origin_pos": 43,
    "tab": [
     "pytorch"
    ]
   },
   "outputs": [],
   "source": [
    "voc_dir = d2l.download_extract('voc2012', 'VOCdevkit/VOC2012')\n",
    "test_images, test_labels = d2l.read_voc_images(voc_dir, False)\n",
    "n, imgs = 4, []\n",
    "for i in range(n):\n",
    "    crop_rect = (0, 0, 320, 480)\n",
    "    X = torchvision.transforms.functional.crop(test_images[i], *crop_rect)\n",
    "    pred = label2image(predict(X))\n",
    "    imgs += [X.permute(1,2,0), pred.cpu(),\n",
    "             torchvision.transforms.functional.crop(\n",
    "                 test_labels[i], *crop_rect).permute(1,2,0)]\n",
    "d2l.show_images(imgs[::3] + imgs[1::3] + imgs[2::3], 3, n, scale=2);"
   ]
  },
  {
   "cell_type": "markdown",
   "id": "9e271a75",
   "metadata": {
    "origin_pos": 44
   },
   "source": [
    "## 小结\n",
    "\n",
    "* 全卷积网络先使用卷积神经网络抽取图像特征，然后通过$1\\times 1$卷积层将通道数变换为类别个数，最后通过转置卷积层将特征图的高和宽变换为输入图像的尺寸。\n",
    "* 在全卷积网络中，我们可以将转置卷积层初始化为双线性插值的上采样。\n",
    "\n",
    "## 练习\n",
    "\n",
    "1. 如果将转置卷积层改用Xavier随机初始化，结果有什么变化？\n",
    "1. 调节超参数，能进一步提升模型的精度吗？\n",
    "1. 预测测试图像中所有像素的类别。\n",
    "1. 最初的全卷积网络的论文中 :cite:`Long.Shelhamer.Darrell.2015`还使用了某些卷积神经网络中间层的输出。试着实现这个想法。\n"
   ]
  },
  {
   "cell_type": "markdown",
   "id": "3bdb622a",
   "metadata": {
    "origin_pos": 46,
    "tab": [
     "pytorch"
    ]
   },
   "source": [
    "[Discussions](https://discuss.d2l.ai/t/3297)\n"
   ]
  }
 ],
 "metadata": {
  "kernelspec": {
   "name": "lch1",
   "language": "python",
   "display_name": "lch1"
  },
  "language_info": {
   "codemirror_mode": {
    "name": "ipython",
    "version": 3
   },
   "file_extension": ".py",
   "mimetype": "text/x-python",
   "name": "python",
   "nbconvert_exporter": "python",
   "pygments_lexer": "ipython3",
   "version": "3.8.13"
  }
 },
 "nbformat": 4,
 "nbformat_minor": 5
}
